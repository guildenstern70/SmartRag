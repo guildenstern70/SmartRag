{
 "cells": [
  {
   "metadata": {},
   "cell_type": "markdown",
   "source": [
    "# SmartRAG\n",
    "\n",
    "RAG stands for Retrieval Augmented Generation. In this notebook a small RAG system is implemented. It features a Q&A application over a text data source.\n"
   ],
   "id": "a6a63435737a7536"
  },
  {
   "metadata": {
    "ExecuteTime": {
     "end_time": "2025-05-20T10:12:37.036183Z",
     "start_time": "2025-05-20T10:12:37.017927Z"
    }
   },
   "cell_type": "code",
   "source": [
    "import os\n",
    "from langchain.chat_models import init_chat_model\n",
    "from dotenv import load_dotenv\n",
    "\n",
    "load_dotenv()  # take environment variables\n",
    "\n",
    "llm = init_chat_model(\"gpt-4o-mini\", model_provider=\"openai\")\n"
   ],
   "id": "initial_id",
   "outputs": [],
   "execution_count": 9
  }
 ],
 "metadata": {
  "kernelspec": {
   "display_name": "Python 3",
   "language": "python",
   "name": "python3"
  },
  "language_info": {
   "codemirror_mode": {
    "name": "ipython",
    "version": 2
   },
   "file_extension": ".py",
   "mimetype": "text/x-python",
   "name": "python",
   "nbconvert_exporter": "python",
   "pygments_lexer": "ipython2",
   "version": "2.7.6"
  }
 },
 "nbformat": 4,
 "nbformat_minor": 5
}
